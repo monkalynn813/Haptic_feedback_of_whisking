{
 "cells": [
  {
   "cell_type": "code",
   "execution_count": 63,
   "metadata": {},
   "outputs": [],
   "source": [
    "import numpy as np\n",
    "from math import sqrt\n",
    "sample_rate=200"
   ]
  },
  {
   "cell_type": "code",
   "execution_count": 122,
   "metadata": {},
   "outputs": [],
   "source": [
    "s_1 = np.random.normal(50, 10, 200)\n",
    "s_1.sort()\n",
    "s_2 = np.random.normal(100, 0.5, 200)\n",
    "s_3 = np.random.normal(50, 10, 200)\n",
    "s_3.sort()\n",
    "s_3=s_3[::-1]\n",
    "f_1 = np.random.normal(33, 4, 200)\n",
    "f_1.sort()\n",
    "f_2 = np.random.normal(66, 4, 200)\n",
    "f_2.sort()\n",
    "f_3 = np.random.normal(100, 0.5, 200)\n",
    "f_4=f_2[::-1]\n",
    "f_5=f_1[::-1]"
   ]
  },
  {
   "cell_type": "code",
   "execution_count": 126,
   "metadata": {},
   "outputs": [],
   "source": [
    "idle_t=2 #s\n",
    "\n",
    "motor1=[]\n",
    "\n",
    "\n",
    "i=0\n",
    "while i<idle_t*sample_rate:\n",
    "    motor1.append([0,0])\n",
    "    i+=1\n",
    "    \n",
    "mag=[s_1,s_2,s_3]\n",
    "for m_ar in mag:\n",
    "    for m_p in m_ar:\n",
    "        x1=m_p/(sqrt(13)/3)\n",
    "        y1=x1*2/3\n",
    "        motor1.append([-x1,y1])\n",
    "i=0\n",
    "while i<idle_t*sample_rate:\n",
    "    motor1.append([0,0])\n",
    "    i+=1        \n"
   ]
  },
  {
   "cell_type": "code",
   "execution_count": 127,
   "metadata": {},
   "outputs": [],
   "source": [
    "motor2=[]\n",
    "idle_t=1 #s\n",
    "i=0\n",
    "while i<idle_t*sample_rate:\n",
    "    motor2.append([0,0])\n",
    "    i+=1\n",
    "    \n",
    "mag_2=[f_1,f_2,f_3,f_4,f_5]\n",
    "for m_ar in mag_2:\n",
    "    for m_p in m_ar:\n",
    "        y2=m_p/(sqrt(13)/3)\n",
    "        x2=y2*2/3\n",
    "        motor2.append([x2,-y2])\n",
    "        \n",
    "i=0\n",
    "while i<idle_t*sample_rate:\n",
    "    motor2.append([0,0])\n",
    "    i+=1"
   ]
  },
  {
   "cell_type": "code",
   "execution_count": 128,
   "metadata": {},
   "outputs": [
    {
     "data": {
      "image/png": "[encoded data removed]",
      "text/plain": [
       "<Figure size 432x288 with 1 Axes>"
      ]
     },
     "metadata": {},
     "output_type": "display_data"
    }
   ],
   "source": [
    "import matplotlib.pyplot as plt\n",
    "\n",
    "plt.figure()\n",
    "plt.plot(motor1)\n",
    "plt.plot(motor2)\n",
    "plt.show()"
   ]
  },
  {
   "cell_type": "code",
   "execution_count": 138,
   "metadata": {},
   "outputs": [],
   "source": [
    "motors=np.append(motor1,motor2,axis=1)\n",
    "\n",
    "#x1,y1,x2,y2\n",
    "\n",
    "\n",
    "for dataset in motors:\n",
    "    row=''\n",
    "    for i in range(len(dataset)):\n",
    "        row += str(dataset[i])\n",
    "        if i == len(dataset)-1:\n",
    "            row += '\\n'\n",
    "        else: \n",
    "            row +=','\n",
    "    with open('augmented_data.csv','a') as f:\n",
    "        f.write(row)\n",
    "        \n",
    "        \n",
    "    "
   ]
  }
 ],
 "metadata": {
  "kernelspec": {
   "display_name": "Python 3",
   "language": "python",
   "name": "python3"
  },
  "language_info": {
   "codemirror_mode": {
    "name": "ipython",
    "version": 3
   },
   "file_extension": ".py",
   "mimetype": "text/x-python",
   "name": "python",
   "nbconvert_exporter": "python",
   "pygments_lexer": "ipython3",
   "version": "3.6.5"
  }
 },
 "nbformat": 4,
 "nbformat_minor": 2
}
